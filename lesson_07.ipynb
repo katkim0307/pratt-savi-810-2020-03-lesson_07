{
 "cells": [
  {
   "cell_type": "markdown",
   "metadata": {},
   "source": [
    "# Lesson 07\n",
    "\n",
    "\n",
    "# Introduction to Object-Oriented Programming with Classes and Objects, Geocoding and Street Networks with OSMnx\n",
    "\n",
    "\n",
    "\n",
    "\n",
    "![http://www.pratt.edu/tiny_mce/plugins/imagemanager/files/Light_brown_blue22.jpg](http://www.pratt.edu/tiny_mce/plugins/imagemanager/files/Light_brown_blue22.jpg)\n",
    "\n",
    "# Class Links\n",
    "\n",
    "* [Syllabus](https://docs.google.com/document/d/1KHxT-NkaoXXdSNkK8JlzL2FFgmNoxPQ25fwgtXPnbrY)\n",
    "\n",
    "* [Class Google Spreadsheet](https://docs.google.com/spreadsheets/d/1t481r7HjQBbjNtFOABSOlcckzQhdrh12TCzpSYKurI0/edit?usp=sharing)\n",
    "\n",
    "* [Google Meetup Video Hangout](https://meet.google.com/aym-kxae-bzr)\n",
    "\n",
    "  * For United States Dial +1 \n",
    "    * (669) 220-6376\n",
    "  * Enter this PIN when prompted: \n",
    "    * 891 126 706 #\n",
    "  \n",
    "* [GitHub Organization](https://github.com/pratt-savi-810)\n",
    "\n",
    "* [Slack Organization](https://app.slack.com/client/T01068MA75X/C010J3Q2QET)\n",
    "\n",
    "* [Resources](https://github.com/pratt-savi-810/resources)"
   ]
  },
  {
   "cell_type": "markdown",
   "metadata": {
    "toc": true
   },
   "source": [
    "<h1>Table of Contents<span class=\"tocSkip\"></span></h1>\n",
    "<div class=\"toc\"><ul class=\"toc-item\"><li><span><a href=\"#Lesson-07\" data-toc-modified-id=\"Lesson-07-1\">Lesson 07</a></span></li><li><span><a href=\"#Introduction-to-Object-Oriented-Programming-with-Classes-and-Objects,-Geocoding-and-Street-Networks-with-OSMnx\" data-toc-modified-id=\"Introduction-to-Object-Oriented-Programming-with-Classes-and-Objects,-Geocoding-and-Street-Networks-with-OSMnx-2\">Introduction to Object-Oriented Programming with Classes and Objects, Geocoding and Street Networks with OSMnx</a></span></li><li><span><a href=\"#Class-Links\" data-toc-modified-id=\"Class-Links-3\">Class Links</a></span></li><li><span><a href=\"#Learning-Objectives\" data-toc-modified-id=\"Learning-Objectives-4\">Learning Objectives</a></span><ul class=\"toc-item\"><li><ul class=\"toc-item\"><li><span><a href=\"#Fork-and-Clone-this-Lesson-Repo\" data-toc-modified-id=\"Fork-and-Clone-this-Lesson-Repo-4.0.1\">Fork and Clone this Lesson Repo</a></span></li></ul></li></ul></li><li><span><a href=\"#Code-along-Emphasis\" data-toc-modified-id=\"Code-along-Emphasis-5\">Code along Emphasis</a></span></li><li><span><a href=\"#Updating-Forks-from-the-source-Repository\" data-toc-modified-id=\"Updating-Forks-from-the-source-Repository-6\">Updating Forks from the source Repository</a></span></li><li><span><a href=\"#Import-Libraries\" data-toc-modified-id=\"Import-Libraries-7\">Import Libraries</a></span></li><li><span><a href=\"#Topic-Request:--.-dots-in-Python---where-we-encounter-them.\" data-toc-modified-id=\"Topic-Request:--.-dots-in-Python---where-we-encounter-them.-8\">Topic Request:  <code>.</code> dots in Python - where we encounter them.</a></span></li><li><span><a href=\"#Importing-a-Python-file\" data-toc-modified-id=\"Importing-a-Python-file-9\">Importing a Python file</a></span><ul class=\"toc-item\"><li><ul class=\"toc-item\"><li><ul class=\"toc-item\"><li><span><a href=\"#Create-a-random-string-with-generate_uuid()\" data-toc-modified-id=\"Create-a-random-string-with-generate_uuid()-9.0.0.1\">Create a random string with <code>generate_uuid()</code></a></span></li><li><span><a href=\"#If-we-call-it-again,-we'll-get-another-random-string.\" data-toc-modified-id=\"If-we-call-it-again,-we'll-get-another-random-string.-9.0.0.2\">If we call it again, we'll get another random string.</a></span></li></ul></li></ul></li><li><span><a href=\"#Let's-take-a-look-at-doing-this-via-the-Commandline\" data-toc-modified-id=\"Let's-take-a-look-at-doing-this-via-the-Commandline-9.1\">Let's take a look at doing this via the Commandline</a></span><ul class=\"toc-item\"><li><span><a href=\"#Conceptual-demo---no-need-to-codealong\" data-toc-modified-id=\"Conceptual-demo---no-need-to-codealong-9.1.1\">Conceptual demo - no need to codealong</a></span></li></ul></li><li><span><a href=\"#Python-Methods\" data-toc-modified-id=\"Python-Methods-9.2\">Python Methods</a></span></li></ul></li><li><span><a href=\"#Object-Oriented-Programming\" data-toc-modified-id=\"Object-Oriented-Programming-10\">Object-Oriented Programming</a></span><ul class=\"toc-item\"><li><span><a href=\"#Why-use-Object-Oriented-Progamming-(OOP)?\" data-toc-modified-id=\"Why-use-Object-Oriented-Progamming-(OOP)?-10.1\">Why use Object-Oriented Progamming (OOP)?</a></span><ul class=\"toc-item\"><li><span><a href=\"#OOP-in-Python-uses-Class-and-objects\" data-toc-modified-id=\"OOP-in-Python-uses-Class-and-objects-10.1.1\">OOP in Python uses Class and objects</a></span><ul class=\"toc-item\"><li><span><a href=\"#Let's-Create-Class\" data-toc-modified-id=\"Let's-Create-Class-10.1.1.1\">Let's Create Class</a></span></li><li><span><a href=\"#Python-pass\" data-toc-modified-id=\"Python-pass-10.1.1.2\">Python <code>pass</code></a></span></li><li><span><a href=\"#Let's-create-an-Object-called-black.-This-Object-is-an-instance-of-the-Class-Color()\" data-toc-modified-id=\"Let's-create-an-Object-called-black.-This-Object-is-an-instance-of-the-Class-Color()-10.1.1.3\">Let's create an <strong>Object</strong> called <code>black</code>. This <strong>Object</strong> is an <strong>instance</strong> of the <strong>Class</strong> <code>Color()</code></a></span></li><li><span><a href=\"#Let's-run/return-what-black-is.\" data-toc-modified-id=\"Let's-run/return-what-black-is.-10.1.1.4\">Let's run/return what <code>black</code> is.</a></span></li><li><span><a href=\"#We-can-then-assign-some-variables-to-the-instance-for-RGB-values-(red,-green,-blue)\" data-toc-modified-id=\"We-can-then-assign-some-variables-to-the-instance-for-RGB-values-(red,-green,-blue)-10.1.1.5\">We can then assign some variables to the instance for RGB values (red, green, blue)</a></span></li><li><span><a href=\"#Use-WebColors-to-confirm-the-named-color.\" data-toc-modified-id=\"Use-WebColors-to-confirm-the-named-color.-10.1.1.6\">Use WebColors to confirm the named color.</a></span></li><li><span><a href=\"#Let's-pass-in-the-newly-constructed-some_rgb_name,-which-is-derived-from-rgb_to_name()-function.\" data-toc-modified-id=\"Let's-pass-in-the-newly-constructed-some_rgb_name,-which-is-derived-from-rgb_to_name()-function.-10.1.1.7\">Let's pass in the newly constructed <code>some_rgb_name</code>, which is derived from <code>rgb_to_name()</code> function.</a></span></li><li><span><a href=\"#Plot\" data-toc-modified-id=\"Plot-10.1.1.8\">Plot</a></span></li><li><span><a href=\"#Let's-create-a-new-color-object\" data-toc-modified-id=\"Let's-create-a-new-color-object-10.1.1.9\">Let's create a new color object</a></span></li><li><span><a href=\"#Return-new_clr\" data-toc-modified-id=\"Return-new_clr-10.1.1.10\">Return <code>new_clr</code></a></span></li><li><span><a href=\"#Access-new_color's-red-property\" data-toc-modified-id=\"Access-new_color's-red-property-10.1.1.11\">Access <code>new_color</code>'s red property</a></span></li><li><span><a href=\"#Error,-we-still-need-to-set-that-property,-but-we-can-do-it-when-we-create-it.\" data-toc-modified-id=\"Error,-we-still-need-to-set-that-property,-but-we-can-do-it-when-we-create-it.-10.1.1.12\"><strong>Error</strong>, we still need to set that property, but we can do it when we create it.</a></span></li></ul></li></ul></li><li><span><a href=\"#self-in-Python\" data-toc-modified-id=\"self-in-Python-10.2\"><code>self</code> in Python</a></span><ul class=\"toc-item\"><li><ul class=\"toc-item\"><li><span><a href=\"#You-can-access-the-Object's-properties-with-__dict__\" data-toc-modified-id=\"You-can-access-the-Object's-properties-with-__dict__-10.2.0.1\">You can access the Object's properties with <code>__dict__</code></a></span></li><li><span><a href=\"#Now-let's-say-I-want-to-add-a-Method-to-return-an-RGB-Tuple\" data-toc-modified-id=\"Now-let's-say-I-want-to-add-a-Method-to-return-an-RGB-Tuple-10.2.0.2\">Now let's say I want to add a Method to return an RGB Tuple</a></span></li><li><span><a href=\"#Let's-create-another-color-object-that-has-our-new-rgb_tuple-Method.\" data-toc-modified-id=\"Let's-create-another-color-object-that-has-our-new-rgb_tuple-Method.-10.2.0.3\">Let's create another color object that has our new <code>rgb_tuple</code> Method.</a></span></li><li><span><a href=\"#Let's-add-another-Method-for-the-colors-lightness,\" data-toc-modified-id=\"Let's-add-another-Method-for-the-colors-lightness,-10.2.0.4\">Let's add another Method for the colors <strong>lightness</strong>,</a></span></li><li><span><a href=\"#Create-a-variable-called-purple-with-Color(128,-0,-128)\" data-toc-modified-id=\"Create-a-variable-called-purple-with-Color(128,-0,-128)-10.2.0.5\">Create a variable called <code>purple</code> with <code>Color(128, 0, 128)</code></a></span></li><li><span><a href=\"#Let's-check-out-purple's-attribute-of-lightness()\" data-toc-modified-id=\"Let's-check-out-purple's-attribute-of-lightness()-10.2.0.6\">Let's check out <code>purple</code>'s attribute of <code>lightness()</code></a></span></li><li><span><a href=\"#Access-the-lightness-method-on-creation\" data-toc-modified-id=\"Access-the-lightness-method-on-creation-10.2.0.7\">Access the <code>lightness</code> method on creation</a></span></li></ul></li></ul></li></ul></li><li><span><a href=\"#This-Course's-Final-Project\" data-toc-modified-id=\"This-Course's-Final-Project-11\">This Course's Final Project</a></span><ul class=\"toc-item\"><li><ul class=\"toc-item\"><li><span><a href=\"#How-the-Project-is-Evaluated-(Rubric)\" data-toc-modified-id=\"How-the-Project-is-Evaluated-(Rubric)-11.0.1\">How the Project is Evaluated (Rubric)</a></span></li><li><span><a href=\"#Project-Routes\" data-toc-modified-id=\"Project-Routes-11.0.2\">Project Routes</a></span></li><li><span><a href=\"#Emphasis\" data-toc-modified-id=\"Emphasis-11.0.3\">Emphasis</a></span></li></ul></li></ul></li><li><span><a href=\"#Back-to-Geospatial\" data-toc-modified-id=\"Back-to-Geospatial-12\">Back to Geospatial</a></span><ul class=\"toc-item\"><li><ul class=\"toc-item\"><li><ul class=\"toc-item\"><li><span><a href=\"#Set-the-.geojson-url-to-a-variable\" data-toc-modified-id=\"Set-the-.geojson-url-to-a-variable-12.0.0.1\">Set the <code>.geojson</code> url to a variable</a></span></li><li><span><a href=\"#Read-.geojson-file-to-GeoDataFrame\" data-toc-modified-id=\"Read-.geojson-file-to-GeoDataFrame-12.0.0.2\">Read <code>.geojson</code> file to GeoDataFrame</a></span></li><li><span><a href=\"#Plot-the-GeoDataFrame\" data-toc-modified-id=\"Plot-the-GeoDataFrame-12.0.0.3\">Plot the GeoDataFrame</a></span></li><li><span><a href=\"#To-change-the-Projection,-we-set-the-argument-inplace=True\" data-toc-modified-id=\"To-change-the-Projection,-we-set-the-argument-inplace=True-12.0.0.4\">To change the Projection, we set the argument <code>inplace=True</code></a></span></li><li><span><a href=\"#Plot-again-with-updated-Projection\" data-toc-modified-id=\"Plot-again-with-updated-Projection-12.0.0.5\">Plot again with updated Projection</a></span></li></ul></li></ul></li></ul></li><li><span><a href=\"#Geocoding\" data-toc-modified-id=\"Geocoding-13\">Geocoding</a></span><ul class=\"toc-item\"><li><ul class=\"toc-item\"><li><span><a href=\"#Geocode-Example-Google-Maps\" data-toc-modified-id=\"Geocode-Example-Google-Maps-13.0.1\">Geocode Example Google Maps</a></span></li></ul></li><li><span><a href=\"#Geocoding-with-GeoPy\" data-toc-modified-id=\"Geocoding-with-GeoPy-13.1\">Geocoding with GeoPy</a></span><ul class=\"toc-item\"><li><span><a href=\"#Installing-Geopy\" data-toc-modified-id=\"Installing-Geopy-13.1.1\">Installing Geopy</a></span></li><li><span><a href=\"#About-GeoPy\" data-toc-modified-id=\"About-GeoPy-13.1.2\">About GeoPy</a></span></li><li><span><a href=\"#GeoPy-Geocoder-Services\" data-toc-modified-id=\"GeoPy-Geocoder-Services-13.1.3\">GeoPy Geocoder Services</a></span><ul class=\"toc-item\"><li><span><a href=\"#Let's-import-Nominatim-as-our-Geocoder\" data-toc-modified-id=\"Let's-import-Nominatim-as-our-Geocoder-13.1.3.1\">Let's import Nominatim as our Geocoder</a></span></li><li><span><a href=\"#Create-a-new-variable-called-geolocator-as-our-object-of-the-Nominatim()-geocoding-class\" data-toc-modified-id=\"Create-a-new-variable-called-geolocator-as-our-object-of-the-Nominatim()-geocoding-class-13.1.3.2\">Create a new variable called <code>geolocator</code> as our object of the <code>Nominatim()</code> geocoding class</a></span></li><li><span><a href=\"#Let's-create-a-variable-called-location-that-geocodes-&quot;175-5th-Avenue-NYC&quot;.\" data-toc-modified-id=\"Let's-create-a-variable-called-location-that-geocodes-&quot;175-5th-Avenue-NYC&quot;.-13.1.3.3\">Let's create a variable called <code>location</code> that geocodes \"175 5th Avenue NYC\".</a></span></li><li><span><a href=\"#Let's-see-this-location's-standardized-geocoded-address.\" data-toc-modified-id=\"Let's-see-this-location's-standardized-geocoded-address.-13.1.3.4\">Let's see this <code>location</code>'s standardized geocoded address.</a></span></li><li><span><a href=\"#Do-you-think-this-location-object-has-a-latitude-and-longitude???\" data-toc-modified-id=\"Do-you-think-this-location-object-has-a-latitude-and-longitude???-13.1.3.5\">Do you think this <code>location</code> object has a latitude and longitude???</a></span></li><li><span><a href=\"#Let's-look-at-the-whole-response-as-.raw\" data-toc-modified-id=\"Let's-look-at-the-whole-response-as-.raw-13.1.3.6\">Let's look at the whole response as <code>.raw</code></a></span></li><li><span><a href=\"#Let's-see-what-the-type()-is-of-location.point\" data-toc-modified-id=\"Let's-see-what-the-type()-is-of-location.point-13.1.3.7\">Let's see what the <code>type()</code> is of <code>location.point</code></a></span></li><li><span><a href=\"#In-case-you-are-wondering-about-when-something-is-.something-vs-.something()\" data-toc-modified-id=\"In-case-you-are-wondering-about-when-something-is-.something-vs-.something()-13.1.3.8\">In case you are wondering about when something is <code>.something</code> vs <code>.something()</code></a></span></li><li><span><a href=\"#Back-to-our-color-example\" data-toc-modified-id=\"Back-to-our-color-example-13.1.3.9\">Back to our color example</a></span></li><li><span><a href=\"#From-shapely.geometry-let's-import-Point-and-from-geopandas-let's-import-the-GeoDataFrame-class.\" data-toc-modified-id=\"From-shapely.geometry-let's-import-Point-and-from-geopandas-let's-import-the-GeoDataFrame-class.-13.1.3.10\">From <code>shapely.geometry</code> let's import <code>Point</code> and from <code>geopandas</code> let's import the <code>GeoDataFrame</code> class.</a></span></li><li><span><a href=\"#Let's-create-a-dictionary-with-a-list-of-2-addresses\" data-toc-modified-id=\"Let's-create-a-dictionary-with-a-list-of-2-addresses-13.1.3.11\">Let's create a dictionary with a list of 2 addresses</a></span></li><li><span><a href=\"#Now-let's-turn-that-dictionary-into-a-DataFrame\" data-toc-modified-id=\"Now-let's-turn-that-dictionary-into-a-DataFrame-13.1.3.12\">Now let's turn that dictionary into a DataFrame</a></span></li><li><span><a href=\"#Let's-geocode-everything-in-the-address-column\" data-toc-modified-id=\"Let's-geocode-everything-in-the-address-column-13.1.3.13\">Let's geocode everything in the <strong>address</strong> column</a></span></li><li><span><a href=\"#Let's-Parse-out-the-Coordinates\" data-toc-modified-id=\"Let's-Parse-out-the-Coordinates-13.1.3.14\">Let's Parse out the Coordinates</a></span></li><li><span><a href=\"#What-is-a-lambda-function?\" data-toc-modified-id=\"What-is-a-lambda-function?-13.1.3.15\">What is a <code>lambda</code> function?</a></span></li><li><span><a href=\"#Let's-use-lambda-x:-to-create-individual-longitude-and-latitude-columns\" data-toc-modified-id=\"Let's-use-lambda-x:-to-create-individual-longitude-and-latitude-columns-13.1.3.16\">Let's use <code>lambda x:</code> to create individual <code>longitude</code> and <code>latitude</code> columns</a></span></li><li><span><a href=\"#Let's-iterate-through-the-dataframe-using-df.iterrows():-to-see-our-geocodes\" data-toc-modified-id=\"Let's-iterate-through-the-dataframe-using-df.iterrows():-to-see-our-geocodes-13.1.3.17\">Let's iterate through the dataframe using <code>df.iterrows():</code> to see our geocodes</a></span></li><li><span><a href=\"#We-can-also-cast-our-geometry-column-using-the-Point()-class-from-Shapely/GeoPandas\" data-toc-modified-id=\"We-can-also-cast-our-geometry-column-using-the-Point()-class-from-Shapely/GeoPandas-13.1.3.18\">We can also cast our <code>geometry</code> column using the <code>Point()</code> class from Shapely/GeoPandas</a></span></li><li><span><a href=\"#Let's-make-this-a-GeoDataFrame\" data-toc-modified-id=\"Let's-make-this-a-GeoDataFrame-13.1.3.19\">Let's make this a GeoDataFrame</a></span></li><li><span><a href=\"#Plot-address\" data-toc-modified-id=\"Plot-address-13.1.3.20\">Plot <code>address</code></a></span></li><li><span><a href=\"#Check-out-address.geometry-attribute\" data-toc-modified-id=\"Check-out-address.geometry-attribute-13.1.3.21\">Check out <code>address.geometry</code> attribute</a></span></li><li><span><a href=\"#There's-some-bug-for-CRS-that-we'll-update\" data-toc-modified-id=\"There's-some-bug-for-CRS-that-we'll-update-13.1.3.22\">There's some bug for CRS that we'll update</a></span></li><li><span><a href=\"#Let's-plot-the-addresses-with-our-Boros-(gdf)\" data-toc-modified-id=\"Let's-plot-the-addresses-with-our-Boros-(gdf)-13.1.3.23\">Let's plot the addresses with our Boros (<code>gdf</code>)</a></span></li></ul></li></ul></li></ul></li><li><span><a href=\"#Networks\" data-toc-modified-id=\"Networks-14\">Networks</a></span><ul class=\"toc-item\"><li><span><a href=\"#Networks-with-OSMnx\" data-toc-modified-id=\"Networks-with-OSMnx-14.1\">Networks with OSMnx</a></span><ul class=\"toc-item\"><li><span><a href=\"#OSMnx:-Python-for-Street-Networks\" data-toc-modified-id=\"OSMnx:-Python-for-Street-Networks-14.1.1\">OSMnx: Python for Street Networks</a></span></li><li><span><a href=\"#Installing-OSMnx\" data-toc-modified-id=\"Installing-OSMnx-14.1.2\">Installing OSMnx</a></span></li><li><span><a href=\"#About-OSMnx\" data-toc-modified-id=\"About-OSMnx-14.1.3\">About OSMnx</a></span><ul class=\"toc-item\"><li><span><a href=\"#Let's-get-a-Place-Boundary-from-OSMnx\" data-toc-modified-id=\"Let's-get-a-Place-Boundary-from-OSMnx-14.1.3.1\">Let's get a Place Boundary from OSMnx</a></span></li><li><span><a href=\"#Plot-city\" data-toc-modified-id=\"Plot-city-14.1.3.2\">Plot <code>city</code></a></span></li><li><span><a href=\"#OSMnx,-has-it's-own-Function-to-save-as-a-shapefile,-in-a-folder-called-data\" data-toc-modified-id=\"OSMnx,-has-it's-own-Function-to-save-as-a-shapefile,-in-a-folder-called-data-14.1.3.3\">OSMnx, has it's own Function to save as a shapefile, in a folder called <code>data</code></a></span></li><li><span><a href=\"#Let's-get-some-Streets-from-Ojai,-California,-via-the-graph_from_place()-function.\" data-toc-modified-id=\"Let's-get-some-Streets-from-Ojai,-California,-via-the-graph_from_place()-function.-14.1.3.4\">Let's get some Streets from Ojai, California, via the <code>graph_from_place()</code> function.</a></span></li><li><span><a href=\"#Let's-plot-a-graph-of-the-Ojai-Streets-Network\" data-toc-modified-id=\"Let's-plot-a-graph-of-the-Ojai-Streets-Network-14.1.3.5\">Let's plot a graph of the Ojai Streets Network</a></span></li><li><span><a href=\"#This-OSMnx-object-from-ox.graph_from_place()-is-not-a-GeoDataFrame-object\" data-toc-modified-id=\"This-OSMnx-object-from-ox.graph_from_place()-is-not-a-GeoDataFrame-object-14.1.3.6\">This OSMnx object from <code>ox.graph_from_place()</code> is not a GeoDataFrame object</a></span></li><li><span><a href=\"#Let's-get-the-Nodes-and-Edges-of-the-Graph\" data-toc-modified-id=\"Let's-get-the-Nodes-and-Edges-of-the-Graph-14.1.3.7\">Let's get the Nodes and Edges of the Graph</a></span></li><li><span><a href=\"#We'll-also-grab-the-boundary-for-Ojai,-California\" data-toc-modified-id=\"We'll-also-grab-the-boundary-for-Ojai,-California-14.1.3.8\">We'll also grab the boundary for Ojai, California</a></span></li><li><span><a href=\"#Plot-them-together\" data-toc-modified-id=\"Plot-them-together-14.1.3.9\">Plot them together</a></span></li><li><span><a href=\"#Let's-grab-a-road-network-around-Pratt-University\" data-toc-modified-id=\"Let's-grab-a-road-network-around-Pratt-University-14.1.3.10\">Let's grab a road network around Pratt University</a></span></li><li><span><a href=\"#Let's-parse-those-out-into-a-set-of-GeoDataFrames\" data-toc-modified-id=\"Let's-parse-those-out-into-a-set-of-GeoDataFrames-14.1.3.11\">Let's parse those out into a set of GeoDataFrames</a></span></li><li><span><a href=\"#And-pull-out-the-intersections-and-the-streets\" data-toc-modified-id=\"And-pull-out-the-intersections-and-the-streets-14.1.3.12\">And pull out the intersections and the streets</a></span></li><li><span><a href=\"#Let's-grab-just-the-pratt-address-from-our-address-GeoDataFrame\" data-toc-modified-id=\"Let's-grab-just-the-pratt-address-from-our-address-GeoDataFrame-14.1.3.13\">Let's grab just the pratt address from our <code>address</code> GeoDataFrame</a></span></li><li><span><a href=\"#Let's-overlay-our-Radial-Buffer-and-our-Network-Analysis-1km-output.\" data-toc-modified-id=\"Let's-overlay-our-Radial-Buffer-and-our-Network-Analysis-1km-output.-14.1.3.14\">Let's overlay our Radial Buffer and our Network Analysis 1km output.</a></span></li></ul></li></ul></li></ul></li><li><span><a href=\"#Gitignore-Review\" data-toc-modified-id=\"Gitignore-Review-15\">Gitignore Review</a></span><ul class=\"toc-item\"><li><ul class=\"toc-item\"><li><ul class=\"toc-item\"><li><span><a href=\"#Useful-.gitignore-file-links\" data-toc-modified-id=\"Useful-.gitignore-file-links-15.0.0.1\">Useful <code>.gitignore</code> file links</a></span></li></ul></li></ul></li></ul></li></ul></div>"
   ]
  },
  {
   "cell_type": "markdown",
   "metadata": {},
   "source": [
    "# Learning Objectives\n",
    "\n",
    "\n",
    "* Introduction to Object-Oriented Programming with Classes and Objects\n",
    "* Geocoding \n",
    "* Street Networks with OSMnx\n",
    "\n",
    "\n",
    "### Fork and Clone this Lesson Repo\n",
    "\n",
    "https://github.com/pratt-savi-810/pratt-savi-810-2020-03-lesson_07\n"
   ]
  },
  {
   "cell_type": "markdown",
   "metadata": {},
   "source": [
    "# Code along Emphasis\n",
    "\n",
    "![code_along](https://miro.medium.com/max/2560/1*Qg9Vru-wAZWvuGTf9q8k8Q.jpeg)\n",
    "_Source: [Conquering the Code-Along](https://medium.com/@ryanfleharty/conquering-the-code-along-5ebe37941f70)_"
   ]
  },
  {
   "cell_type": "markdown",
   "metadata": {},
   "source": [
    "# Updating Forks from the source Repository\n",
    "\n",
    "* [GitHub - Syncing a Fork](https://help.github.com/en/github/collaborating-with-issues-and-pull-requests/syncing-a-fork)\n",
    "\n",
    "* [Syncing your fork to the original repository via the browser](https://github.com/KirstieJane/STEMMRoleModels/wiki/Syncing-your-fork-to-the-original-repository-via-the-browser)\n",
    "\n",
    "* [Blogpost - How to Update a Fork in Github](https://rick.cogley.info/post/update-your-forked-repository-directly-on-github/)\n",
    "\n",
    "* [How to update a forked repo with git rebase](https://medium.com/@topspinj/how-to-git-rebase-into-a-forked-repo-c9f05e821c8a)\n",
    "        \n"
   ]
  },
  {
   "cell_type": "markdown",
   "metadata": {},
   "source": [
    "# Import Libraries\n",
    "\n",
    "Let's `import` some of the libraries we've already used. "
   ]
  },
  {
   "cell_type": "code",
   "execution_count": 1,
   "metadata": {},
   "outputs": [],
   "source": [
    "import os\n",
    "import sys\n",
    "module_path = os.path.abspath(os.path.join('..'))\n",
    "if module_path not in sys.path:\n",
    "    sys.path.append(module_path)\n",
    "    \n",
    "\n",
    "from IPython.display import IFrame\n",
    "import pandas as pd\n",
    "import geopandas as gpd\n",
    "import matplotlib.pyplot as plt\n",
    "import numpy as np\n",
    "import missingno as msno\n",
    "import seaborn as sns\n",
    "import matplotlib.patches as patches\n",
    "\n",
    "\n",
    "%matplotlib inline\n",
    "%load_ext autoreload\n",
    "%autoreload 2"
   ]
  },
  {
   "cell_type": "markdown",
   "metadata": {},
   "source": [
    "# Topic Request:  `.` dots in Python - where we encounter them. \n",
    "\n",
    "# Importing a Python file"
   ]
  },
  {
   "cell_type": "code",
   "execution_count": 4,
   "metadata": {},
   "outputs": [],
   "source": [
    "from tools.helpers import generate_uuid"
   ]
  },
  {
   "cell_type": "markdown",
   "metadata": {},
   "source": [
    "In the directory of this notebook we have a Folder called **`tools`** and a Python file called **`helpers.py`**. \n",
    "\n",
    "![https://raw.githubusercontent.com/pratt-savi-810/images/master/python_file_tree.png](https://raw.githubusercontent.com/pratt-savi-810/images/master/python_file_tree.png)\n",
    "\n",
    "We use the `.` dot in Python to access the Python file in the subdirectory. \n",
    "\n",
    "```python \n",
    "from tools.helpers import generate_uuid\n",
    "```"
   ]
  },
  {
   "cell_type": "markdown",
   "metadata": {},
   "source": [
    "#### Create a random string with `generate_uuid()`"
   ]
  },
  {
   "cell_type": "code",
   "execution_count": 6,
   "metadata": {},
   "outputs": [
    {
     "data": {
      "text/plain": [
       "'1f6bc36fa1554cf9a9772d3f5b2d796a'"
      ]
     },
     "execution_count": 6,
     "metadata": {},
     "output_type": "execute_result"
    }
   ],
   "source": [
    "generate_uuid()     # generating randome/unique id"
   ]
  },
  {
   "cell_type": "markdown",
   "metadata": {},
   "source": [
    "#### If we call it again, we'll get another random string.\n",
    "\n",
    "Learn more about [UUID - A Universally Unique Identifier](https://docs.python.org/3/library/uuid.html)"
   ]
  },
  {
   "cell_type": "code",
   "execution_count": 7,
   "metadata": {},
   "outputs": [
    {
     "data": {
      "text/plain": [
       "'0805cebc3b814b2583003c3096c56b19'"
      ]
     },
     "execution_count": 7,
     "metadata": {},
     "output_type": "execute_result"
    }
   ],
   "source": [
    "generate_uuid()"
   ]
  },
  {
   "cell_type": "markdown",
   "metadata": {},
   "source": [
    "## Let's take a look at doing this via the Commandline\n",
    "\n",
    "![ipython](https://raw.githubusercontent.com/pratt-savi-810/images/master/ipython_import.png)\n",
    "\n",
    "### Conceptual demo - no need to codealong "
   ]
  },
  {
   "cell_type": "markdown",
   "metadata": {},
   "source": [
    "## Python Methods\n",
    "\n",
    "So we've gone over **Functions**. \n",
    "\n",
    "_Example of a Python Function_\n",
    "\n",
    "```python\n",
    "def some_function(some_argument):\n",
    "    len_some_arg = len(str(some_argument))\n",
    "    return len_some_arg\n",
    "```\n",
    "\n",
    "```python\n",
    "def some_function(some_argument):\n",
    "    return len(str(some_argument))\n",
    "```\n",
    "\n",
    "However, something we haven't covered are Python **Methods**, which are Functions inside a **Class**. Classes are best described in the topic of **Object-Oriented Programming**. \n",
    "\n",
    "# Object-Oriented Programming\n",
    "\n",
    "> In all the programs we wrote till now, we have designed our program around functions i.e. blocks of statements which manipulate data. This is called the procedure-oriented way of programming. There is another way of organizing your program which is to combine data and functionality and wrap it inside something called an object. This is called the object oriented programming paradigm. Most of the time you can use procedural programming, but when writing large programs or have a problem that is better suited to this method, you can use object oriented programming techniques. Source: https://python.swaroopch.com/oop.html\n",
    "\n",
    "\n",
    "## Why use Object-Oriented Progamming (OOP)? \n",
    "\n",
    "> Identifying objects is a very important task in object-oriented analysis and programming. But it isn’t always as easy as counting the nouns in a short paragraph, as we’ve been doing. Remember, objects are things that have both data and behavior. If we are working with only data, we are often better off storing it in a list, set, dictionary, or some other Python data structure. On the other hand, if we are working with only behavior, with no stored data, a simple function is more suitable.\n",
    "\n",
    "> An object, however, has both data and behavior. Most Python programmers use built-in data structures unless (or until) there is an obvious need to define a class. This is a good thing; there is no reason to add an extra level of abstraction if it doesn’t help organize our code. Sometimes, though, the “obvious” need is not so obvious. Source: https://hub.packtpub.com/python-3-when-use-object-oriented-programming/\n",
    "\n",
    "Class Example from Chapter 13 - [Practical Programming - An Introduction to Computer Science Using Python P1, 2009](https://pragprog.com/book/gwpy2/practical-programming)\n",
    "\n",
    "### OOP in Python uses Class and objects\n",
    "\n",
    "We create the class and \"objects are _instances_ of the class\". [1](https://pragprog.com/book/gwpy2/practical-programming) \n",
    "\n",
    "#### Let's Create Class\n",
    "\n",
    "We'll name a class called Color.\n",
    "\n",
    "Like a function uses `def` to define a Function, we specify that we are creating a Class with `class`. \n",
    "\n",
    "Also, worth to note, we often use lower_case in Python, but for classes, we define with first letter capitalized. "
   ]
  },
  {
   "cell_type": "code",
   "execution_count": 8,
   "metadata": {},
   "outputs": [],
   "source": [
    "# https://pragprog.com/book/gwpy2/practical-programming ch13\n",
    "\n",
    "class Color(object):\n",
    "    '''An RGB Colour with Red, Gree, Blue Components'''\n",
    "    pass   # we usee pass b/c we don't have any data or behaviour in our class yet"
   ]
  },
  {
   "cell_type": "markdown",
   "metadata": {},
   "source": [
    "#### Python `pass`\n",
    "\n",
    "> `pass` is a null operation -- when it is executed, nothing happens. It is useful as a placeholder when a statement is required syntactically, but no code needs to be executed. Source: https://docs.python.org/2.0/ref/pass.html\n",
    "\n",
    "#### Let's create an **Object** called `some_color`. This **Object** is an **instance** of the **Class** `Color()`"
   ]
  },
  {
   "cell_type": "code",
   "execution_count": 11,
   "metadata": {},
   "outputs": [],
   "source": [
    "some_color = Color()"
   ]
  },
  {
   "cell_type": "markdown",
   "metadata": {},
   "source": [
    "### Let's run/return what `color` is. "
   ]
  },
  {
   "cell_type": "code",
   "execution_count": 20,
   "metadata": {},
   "outputs": [
    {
     "data": {
      "text/plain": [
       "<__main__.Color at 0x27e68e6e7c8>"
      ]
     },
     "execution_count": 20,
     "metadata": {},
     "output_type": "execute_result"
    }
   ],
   "source": [
    "some_color"
   ]
  },
  {
   "cell_type": "markdown",
   "metadata": {},
   "source": [
    "#### We can then assign some variables to the instance for RGB values (red, green, blue)"
   ]
  },
  {
   "cell_type": "code",
   "execution_count": 41,
   "metadata": {},
   "outputs": [],
   "source": [
    "some_color.red = 46"
   ]
  },
  {
   "cell_type": "code",
   "execution_count": 42,
   "metadata": {},
   "outputs": [],
   "source": [
    "some_color.green = 139"
   ]
  },
  {
   "cell_type": "code",
   "execution_count": 43,
   "metadata": {},
   "outputs": [],
   "source": [
    "some_color.blue = 87"
   ]
  },
  {
   "cell_type": "markdown",
   "metadata": {},
   "source": [
    "#### Use WebColors to confirm the named color. \n",
    "\n",
    "`$ pip install webcolors==1.3`\n",
    "\n",
    "https://pypi.org/project/webcolors/1.3/"
   ]
  },
  {
   "cell_type": "code",
   "execution_count": 24,
   "metadata": {},
   "outputs": [],
   "source": [
    "# !pip install webcolors==1.3"
   ]
  },
  {
   "cell_type": "markdown",
   "metadata": {},
   "source": [
    "#### Let's pass in the newly constructed `some_rgb_name`, which is derived from `rgb_to_name()` function. \n",
    "\n",
    "So we can get the color's name. "
   ]
  },
  {
   "cell_type": "code",
   "execution_count": 44,
   "metadata": {
    "scrolled": true
   },
   "outputs": [
    {
     "data": {
      "text/plain": [
       "(46, 139, 87)"
      ]
     },
     "execution_count": 44,
     "metadata": {},
     "output_type": "execute_result"
    }
   ],
   "source": [
    "from webcolors import *   # * import all the functions in the library\n",
    "\n",
    "some_rgb = (some_color.red, some_color.green, some_color.blue)\n",
    "some_rgb   # some tuple w/ these values"
   ]
  },
  {
   "cell_type": "code",
   "execution_count": 45,
   "metadata": {},
   "outputs": [
    {
     "data": {
      "text/plain": [
       "'seagreen'"
      ]
     },
     "execution_count": 45,
     "metadata": {},
     "output_type": "execute_result"
    }
   ],
   "source": [
    "some_rgb_name = rgb_to_name(some_rgb)\n",
    "some_rgb_name"
   ]
  },
  {
   "cell_type": "markdown",
   "metadata": {},
   "source": [
    "#### Plot\n",
    "\n",
    "Here we've been given a quick plotting function. "
   ]
  },
  {
   "cell_type": "code",
   "execution_count": 46,
   "metadata": {},
   "outputs": [],
   "source": [
    "def plot_color_name(plot_color):\n",
    "\n",
    "    fig = plt.figure()\n",
    "    ax=fig.add_axes([0,0,1,1])\n",
    "\n",
    "    ax.add_patch(\n",
    "        patches.Rectangle((1, 1),  3, 1,\n",
    "        facecolor=plot_color,\n",
    "    ))\n",
    "    return ax.plot()"
   ]
  },
  {
   "cell_type": "code",
   "execution_count": 47,
   "metadata": {},
   "outputs": [
    {
     "data": {
      "image/png": "[encoded data removed]",
      "text/plain": [
       "<Figure size 432x288 with 1 Axes>"
      ]
     },
     "metadata": {
      "needs_background": "light"
     },
     "output_type": "display_data"
    }
   ],
   "source": [
    "plot_color_name(some_rgb_name);"
   ]
  },
  {
   "cell_type": "markdown",
   "metadata": {},
   "source": [
    "#### Let's create a new color object"
   ]
  },
  {
   "cell_type": "code",
   "execution_count": 29,
   "metadata": {},
   "outputs": [],
   "source": [
    "new_clr=Color()"
   ]
  },
  {
   "cell_type": "markdown",
   "metadata": {},
   "source": [
    "#### Return `new_clr`"
   ]
  },
  {
   "cell_type": "code",
   "execution_count": 30,
   "metadata": {},
   "outputs": [
    {
     "data": {
      "text/plain": [
       "<__main__.Color at 0x27e69095508>"
      ]
     },
     "execution_count": 30,
     "metadata": {},
     "output_type": "execute_result"
    }
   ],
   "source": [
    "new_clr"
   ]
  },
  {
   "cell_type": "markdown",
   "metadata": {},
   "source": [
    "#### Access `new_color`'s red property"
   ]
  },
  {
   "cell_type": "code",
   "execution_count": null,
   "metadata": {},
   "outputs": [],
   "source": [
    "# new_clr.red"
   ]
  },
  {
   "cell_type": "markdown",
   "metadata": {},
   "source": [
    "#### **Error**, we still need to set that property, but we can do it when we create it. \n",
    "\n",
    "Let's redefine our `Color` class.\n",
    "\n",
    "We'll use a method that's our **constructor**, on initialization, hence `__init__()`. "
   ]
  },
  {
   "cell_type": "code",
   "execution_count": 37,
   "metadata": {},
   "outputs": [],
   "source": [
    "# https://pragprog.com/book/gwpy2/practical-programming ch13\n",
    "\n",
    "class Color(object):\n",
    "    '''An RGB Colour'''\n",
    "    \n",
    "    def __init__(self, r, g, b):\n",
    "        '''We initialise and cast colours when creating our colour object.\n",
    "        All components are integers in the range 0 - 255.'''\n",
    "\n",
    "        self.red = r\n",
    "        self.green = g\n",
    "        self.blue = b"
   ]
  },
  {
   "cell_type": "markdown",
   "metadata": {},
   "source": [
    "\n",
    "## `self` in Python\n",
    "\n",
    "> Class methods have only one specific difference from ordinary functions - they must have an extra first name that has to be added to the beginning of the parameter list, but you do not give a value for this parameter when you call the method, Python will provide it. This particular variable **refers to the object itself, and by convention, it is given the name self**.\n",
    "\n",
    "> Although, you can give any name for this parameter, it is strongly recommended that you use the name self - any other name is definitely frowned upon. There are many advantages to using a standard name - any reader of your program will immediately recognize it and even specialized IDEs (Integrated Development Environments) can help you if you use self. Source: https://python.swaroopch.com/oop.html\n",
    "\n"
   ]
  },
  {
   "cell_type": "code",
   "execution_count": 38,
   "metadata": {},
   "outputs": [],
   "source": [
    "some_color = Color(12, 176, 200)"
   ]
  },
  {
   "cell_type": "markdown",
   "metadata": {},
   "source": [
    "#### You can access the Object's properties with `__dict__`"
   ]
  },
  {
   "cell_type": "code",
   "execution_count": 39,
   "metadata": {
    "scrolled": true
   },
   "outputs": [
    {
     "data": {
      "text/plain": [
       "{'red': 12, 'green': 176, 'blue': 200}"
      ]
     },
     "execution_count": 39,
     "metadata": {},
     "output_type": "execute_result"
    }
   ],
   "source": [
    "some_color.__dict__"
   ]
  },
  {
   "cell_type": "code",
   "execution_count": 40,
   "metadata": {},
   "outputs": [
    {
     "data": {
      "text/plain": [
       "12"
      ]
     },
     "execution_count": 40,
     "metadata": {},
     "output_type": "execute_result"
    }
   ],
   "source": [
    "some_color.red"
   ]
  },
  {
   "cell_type": "markdown",
   "metadata": {},
   "source": [
    "#### Now let's say I want to add a Method to return an RGB Tuple"
   ]
  },
  {
   "cell_type": "code",
   "execution_count": 54,
   "metadata": {},
   "outputs": [],
   "source": [
    "# https://pragprog.com/book/gwpy2/practical-programming ch13\n",
    "\n",
    "class Color(object):\n",
    "    '''An RGB Colour'''\n",
    "\n",
    "    def __init__(self, r, g, b):\n",
    "        self.red = r\n",
    "        self.green = g\n",
    "        self.blue = b\n",
    "        \n",
    "    def rgb_tuple(self):\n",
    "        return (self.red, self.green, self.blue)\n"
   ]
  },
  {
   "cell_type": "markdown",
   "metadata": {},
   "source": [
    "#### Let's create another color object that has our new `rgb_tuple` Method. "
   ]
  },
  {
   "cell_type": "code",
   "execution_count": 55,
   "metadata": {},
   "outputs": [],
   "source": [
    "some_color2 = Color(220, 20, 60)"
   ]
  },
  {
   "cell_type": "code",
   "execution_count": 56,
   "metadata": {},
   "outputs": [
    {
     "data": {
      "text/plain": [
       "(220, 20, 60)"
      ]
     },
     "execution_count": 56,
     "metadata": {},
     "output_type": "execute_result"
    }
   ],
   "source": [
    "some_color2.rgb_tuple()"
   ]
  },
  {
   "cell_type": "code",
   "execution_count": 58,
   "metadata": {},
   "outputs": [
    {
     "data": {
      "text/plain": [
       "'crimson'"
      ]
     },
     "execution_count": 58,
     "metadata": {},
     "output_type": "execute_result"
    }
   ],
   "source": [
    "rgb_to_name(some_color2.rgb_tuple())"
   ]
  },
  {
   "cell_type": "code",
   "execution_count": 59,
   "metadata": {},
   "outputs": [
    {
     "data": {
      "text/plain": [
       "<function webcolors.rgb_to_name(rgb_triplet, spec='css3')>"
      ]
     },
     "execution_count": 59,
     "metadata": {},
     "output_type": "execute_result"
    }
   ],
   "source": [
    "rgb_to_name"
   ]
  },
  {
   "cell_type": "markdown",
   "metadata": {},
   "source": [
    "#### Let's add another Method for the colors **lightness**, \n",
    "\n",
    "> the average of its strongest and weakester RGB values scaled ot lie between 0 and 1, Source:  https://pragprog.com/book/gwpy2/practical-programming ch13\n"
   ]
  },
  {
   "cell_type": "code",
   "execution_count": 63,
   "metadata": {},
   "outputs": [],
   "source": [
    "# https://pragprog.com/book/gwpy2/practical-programming ch13\n",
    "\n",
    "class Color(object):\n",
    "    '''An RGB Colour'''\n",
    "\n",
    "    def __init__(self, r, g, b):\n",
    "        self.red = r\n",
    "        self.green = g\n",
    "        self.blue = b\n",
    "        \n",
    "    def rgb_tuple(self):\n",
    "        return (self.red, self.green, self.blue)\n",
    "\n",
    "    def lightness(self):\n",
    "        brightest = max(self.red, self.green, self.blue)\n",
    "        darkest = min(self.red, self.green, self.blue)\n",
    "        return (0.5 * (brightest + darkest))/255\n"
   ]
  },
  {
   "cell_type": "markdown",
   "metadata": {},
   "source": [
    "#### Create a variable called `purple` with `Color(128, 0, 128)`"
   ]
  },
  {
   "cell_type": "code",
   "execution_count": 65,
   "metadata": {},
   "outputs": [],
   "source": [
    "purple = Color(128,0,128)"
   ]
  },
  {
   "cell_type": "code",
   "execution_count": 68,
   "metadata": {},
   "outputs": [],
   "source": [
    "from shapely.geometry import Point\n",
    "\n",
    "point = Point(-71, 40)\n"
   ]
  },
  {
   "cell_type": "markdown",
   "metadata": {},
   "source": [
    "#### Let's check out `purple`'s method of `lightness()`"
   ]
  },
  {
   "cell_type": "code",
   "execution_count": 66,
   "metadata": {},
   "outputs": [
    {
     "data": {
      "text/plain": [
       "0.25098039215686274"
      ]
     },
     "execution_count": 66,
     "metadata": {},
     "output_type": "execute_result"
    }
   ],
   "source": [
    "purple.lightness()"
   ]
  },
  {
   "cell_type": "markdown",
   "metadata": {},
   "source": [
    "#### Access the `lightness` method on creation"
   ]
  },
  {
   "cell_type": "code",
   "execution_count": 67,
   "metadata": {},
   "outputs": [
    {
     "data": {
      "text/plain": [
       "0.5490196078431373"
      ]
     },
     "execution_count": 67,
     "metadata": {},
     "output_type": "execute_result"
    }
   ],
   "source": [
    "Color(25, 255, 190).lightness()"
   ]
  },
  {
   "cell_type": "markdown",
   "metadata": {},
   "source": [
    "# This Course's Final Project\n",
    "\n",
    "The ultimate **purpose of this project** is to have some **well-written** and **well-documented code** in a GitHub repository that illustrates you can write some Python code**\n",
    "\n",
    "This project is for **your** Portfolio, so pick something you are **interested in** or that's **useful** (either in some professional work or automating some task).\n",
    "\n",
    "\n",
    "### How the Project is Evaluated (Rubric)\n",
    "\n",
    "https://github.com/pratt-savi-810/pratt-savi-810-2020-03-project\n",
    "\n",
    "**You'll create YOUR OWN REPO for this project**, no need to fork the link above. \n",
    "\n",
    "\n",
    "### Project Routes\n",
    "\n",
    "There's a couple of routes you can go;\n",
    "\n",
    "1. **Creating a Tool to Automate a Task** - usually for some task automation, less an analysis, more data engineering. \n",
    "2. **Performing Data Analysis to Answer a Research Question** - this type of project requires plots and data insights. \n",
    "\n",
    "### Emphasis\n",
    "\n",
    "Since writing the code is the challenging part. Do not think about this in scope of a normal project. **Keep your scope focused!** Keep it limited in functionality and if you finish early, you can add more features. I've seen students go down some pretty deep rabbit holes and emerge with some very disorganized projects. You could have only 30 lines of code or so, and still have a great project so long as the code is well written and the doc's are informative and it has some functionality that's useful in some capacity. \n",
    "\n",
    "Most likely someone will only glance at your Repository, so you want it to be organized and clean and very clear as to what the purpose of it is. \n",
    "\n",
    "\n"
   ]
  },
  {
   "cell_type": "markdown",
   "metadata": {},
   "source": [
    "# Back to Geospatial\n",
    "\n",
    "**Your turn**, let's load in our familiar NYC Boroughs dataset. "
   ]
  },
  {
   "cell_type": "markdown",
   "metadata": {},
   "source": [
    "#### Set the `.geojson` url to a variable"
   ]
  },
  {
   "cell_type": "code",
   "execution_count": 69,
   "metadata": {},
   "outputs": [],
   "source": [
    "boro_geojson_link = 'https://data.cityofnewyork.us/api/geospatial/tqmj-j8zm?method=export&format=GeoJSON'"
   ]
  },
  {
   "cell_type": "markdown",
   "metadata": {},
   "source": [
    "#### Read `.geojson` file to GeoDataFrame\n"
   ]
  },
  {
   "cell_type": "code",
   "execution_count": 70,
   "metadata": {},
   "outputs": [],
   "source": [
    "gdf = gpd.read_file(boro_geojson_link)"
   ]
  },
  {
   "cell_type": "markdown",
   "metadata": {},
   "source": [
    "#### Plot the GeoDataFrame"
   ]
  },
  {
   "cell_type": "code",
   "execution_count": 71,
   "metadata": {},
   "outputs": [
    {
     "data": {
      "image/png": "[encoded data removed]",
      "text/plain": [
       "<Figure size 432x288 with 1 Axes>"
      ]
     },
     "metadata": {
      "needs_background": "light"
     },
     "output_type": "display_data"
    }
   ],
   "source": [
    "gdf.plot();  # nyc boros"
   ]
  },
  {
   "cell_type": "markdown",
   "metadata": {},
   "source": [
    "#### To change the Projection, we set the argument `inplace=True`"
   ]
  },
  {
   "cell_type": "code",
   "execution_count": 72,
   "metadata": {},
   "outputs": [],
   "source": [
    "gdf.to_crs(epsg=2263, inplace=True)  \n",
    "# changed the state of the projection system"
   ]
  },
  {
   "cell_type": "markdown",
   "metadata": {},
   "source": [
    "#### Plot again with updated Projection"
   ]
  },
  {
   "cell_type": "code",
   "execution_count": 73,
   "metadata": {},
   "outputs": [
    {
     "data": {
      "image/png": "[encoded data removed]",
      "text/plain": [
       "<Figure size 432x288 with 1 Axes>"
      ]
     },
     "metadata": {
      "needs_background": "light"
     },
     "output_type": "display_data"
    }
   ],
   "source": [
    "gdf.plot();"
   ]
  },
  {
   "cell_type": "markdown",
   "metadata": {},
   "source": [
    "# Geocoding\n",
    "\n",
    "> Geocoding is the process of taking input text, such as an address or the name of a place, and returning a latitude/longitude location on the Earth's surface for that place.[1] Reverse geocoding, on the other hand, converts geographic coordinates to a description of a location, usually the name of a place or an addressable location. Source: https://en.wikipedia.org/wiki/Geocoding\n",
    "\n",
    "![geocoding](https://geospatialmedia.s3.amazonaws.com/wp-content/uploads/2018/05/geocoding-graph.jpg)\n",
    "_Source: Source: SCHOOL ANALYST via [Geospatial World](https://www.geospatialworld.net/blogs/what-is-geocoding-and-how-can-it-help-sell-products/)_\n",
    "\n",
    "\n",
    "> Geocoding relies on a computer representation of address points, the street / road network, together with postal and administrative boundaries. \n",
    "* **Geocode** (verb):[2] provide geographical coordinates corresponding to (a location).\n",
    "* **Geocode** (noun): is a code that represents a geographic entity (location or object). Sometimes the term can be used in a broader sense:[3] the characterization of a neighborhood, locality, etc., according to such demographic features as ethnic composition or the average income or educational level of its inhabitants, especially as used in marketing.\n",
    "* **Geocoder** (noun): a piece of software or a (web) service that implements a geocoding process i.e. a set of interrelated components in the form of operations, algorithms, and data sources that work together to produce a spatial representation for descriptive locational references. \n",
    "\n",
    "> The geographic coordinates representing locations often vary greatly in positional accuracy. Examples include building centroids, land parcel centroids, interpolated locations based on thoroughfare ranges, street segments centroids, postal code centroids (e.g. ZIP codes, CEDEX), and Administrative division Centroids. Source: https://en.wikipedia.org/wiki/Geocoding\n",
    "\n",
    "### Geocode Example Google Maps\n",
    "![geocode_example](https://fiverr-res.cloudinary.com/images/q_auto,f_auto/gigs/140227598/original/d698ad984715b5777e94b3ddb24f3c9ac95176e6/geocode-address-and-return-latitude-and-longitude.png)\n",
    "_Source: [Fiverr](https://www.fiverr.com/roseannhall150/geocode-address-and-return-latitude-and-longitude)_"
   ]
  },
  {
   "cell_type": "markdown",
   "metadata": {},
   "source": [
    "## Geocoding with GeoPy\n",
    "\n",
    "\n",
    "### Installing Geopy\n",
    "\n",
    "```$ pip install geopy```\n",
    "\n",
    "\n",
    "### About GeoPy\n",
    "\n",
    "> geopy is a Python 2 and 3 client for several popular geocoding web services. geopy makes it easy for Python developers to locate the coordinates of addresses, cities, countries, and landmarks across the globe using third-party geocoders and other data sources. Source: https://geopy.readthedocs.io/en/stable/\n",
    "\n",
    "### GeoPy Geocoder Services\n",
    "\n",
    "* ArcGIS\n",
    "* AzureMaps\n",
    "* Baidu\n",
    "* BANFrance\n",
    "* Bing\n",
    "* DataBC\n",
    "* GeocodeEarth\n",
    "* GeocodeFarm\n",
    "* Geolake\n",
    "* GeoNames\n",
    "* GoogleV3\n",
    "* HERE\n",
    "* IGNFrance\n",
    "* MapBox\n",
    "* OpenCage\n",
    "* OpenMapQuest\n",
    "* Nominatim\n",
    "* Pelias\n",
    "* Photon\n",
    "* PickPoint\n",
    "* LiveAddress\n",
    "* TomTom\n",
    "* What3Words\n",
    "* Yandex\n",
    "\n"
   ]
  },
  {
   "cell_type": "markdown",
   "metadata": {},
   "source": [
    "#### Let's import Nominatim as our Geocoder\n",
    "\n",
    "> Nominatim is a search engine for OpenStreetMap data. This is the debugging interface. You may search for a name or address (forward search) or look up data by its geographic coordinate (reverse search). Each result comes with a link to a details page where you can inspect what data about the object is saved in the database and investigate how the address of the object has been computed. Source: https://nominatim.openstreetmap.org/"
   ]
  },
  {
   "cell_type": "code",
   "execution_count": 75,
   "metadata": {},
   "outputs": [],
   "source": [
    "from geopy.geocoders import Nominatim"
   ]
  },
  {
   "cell_type": "markdown",
   "metadata": {},
   "source": [
    "#### Create a new variable called `geolocator` as our object of the `Nominatim()` geocoding class"
   ]
  },
  {
   "cell_type": "code",
   "execution_count": 80,
   "metadata": {},
   "outputs": [],
   "source": [
    "geolocator = Nominatim(user_agent='pratt_gis')"
   ]
  },
  {
   "cell_type": "markdown",
   "metadata": {},
   "source": [
    "#### Let's create a variable called `location` that geocodes \"175 5th Avenue NYC\"."
   ]
  },
  {
   "cell_type": "code",
   "execution_count": 81,
   "metadata": {},
   "outputs": [],
   "source": [
    "location = geolocator.geocode('175 5th Avenue NYC')"
   ]
  },
  {
   "cell_type": "markdown",
   "metadata": {},
   "source": [
    "#### Let's see this `location`'s standardized geocoded address."
   ]
  },
  {
   "cell_type": "code",
   "execution_count": 82,
   "metadata": {},
   "outputs": [
    {
     "data": {
      "text/plain": [
       "'Flatiron Building, 175, 5th Avenue, Flatiron District, Manhattan Community Board 5, Manhattan, New York County, New York, 10010, United States of America'"
      ]
     },
     "execution_count": 82,
     "metadata": {},
     "output_type": "execute_result"
    }
   ],
   "source": [
    "location.address"
   ]
  },
  {
   "cell_type": "markdown",
   "metadata": {},
   "source": [
    "#### Do you think this `location` object has a latitude and longitude???"
   ]
  },
  {
   "cell_type": "code",
   "execution_count": 90,
   "metadata": {
    "scrolled": true
   },
   "outputs": [
    {
     "name": "stdout",
     "output_type": "stream",
     "text": [
      "(40.741059199999995, -73.98964162240998)\n"
     ]
    }
   ],
   "source": [
    "print((location.latitude, location.longitude))"
   ]
  },
  {
   "cell_type": "markdown",
   "metadata": {},
   "source": [
    "#### Let's look at the whole response as `.raw`"
   ]
  },
  {
   "cell_type": "code",
   "execution_count": 91,
   "metadata": {},
   "outputs": [
    {
     "name": "stdout",
     "output_type": "stream",
     "text": [
      "{'place_id': 150272128, 'licence': 'Data © OpenStreetMap contributors, ODbL 1.0. https://osm.org/copyright', 'osm_type': 'way', 'osm_id': 264768896, 'boundingbox': ['40.7407597', '40.7413004', '-73.9898715', '-73.9895014'], 'lat': '40.741059199999995', 'lon': '-73.98964162240998', 'display_name': 'Flatiron Building, 175, 5th Avenue, Flatiron District, Manhattan Community Board 5, Manhattan, New York County, New York, 10010, United States of America', 'class': 'tourism', 'type': 'attraction', 'importance': 0.7405988542685404, 'icon': 'https://nominatim.openstreetmap.org/images/mapicons/poi_point_of_interest.p.20.png'}\n"
     ]
    }
   ],
   "source": [
    "print(location.raw)"
   ]
  },
  {
   "cell_type": "markdown",
   "metadata": {},
   "source": [
    "#### Let's see what the `type()` is of `location.point`"
   ]
  },
  {
   "cell_type": "code",
   "execution_count": 86,
   "metadata": {},
   "outputs": [
    {
     "data": {
      "text/plain": [
       "geopy.point.Point"
      ]
     },
     "execution_count": 86,
     "metadata": {},
     "output_type": "execute_result"
    }
   ],
   "source": [
    "type(location.point)"
   ]
  },
  {
   "cell_type": "markdown",
   "metadata": {},
   "source": [
    "#### In case you are wondering about when something is `.something` vs `.something()`\n",
    "\n",
    "> **Attributes** will never have parenthesis since they cannot be executed.\n",
    "\n",
    "> **Classes** have parenthesis because when initially called you're most likely looking to execute the creation of a new object of that class.\n",
    "\n",
    "> **Methods** will have parenthesis because once created they're meant to be called. Source: https://teamtreehouse.com/community/when-to-use-parentheses-or-not-with-attributes-methods-and-functions"
   ]
  },
  {
   "cell_type": "markdown",
   "metadata": {},
   "source": [
    "#### Back to our color example\n",
    "\n",
    "Let's access `purple`'s **Attribute** called `.red`"
   ]
  },
  {
   "cell_type": "code",
   "execution_count": 87,
   "metadata": {},
   "outputs": [
    {
     "data": {
      "text/plain": [
       "128"
      ]
     },
     "execution_count": 87,
     "metadata": {},
     "output_type": "execute_result"
    }
   ],
   "source": [
    "purple.red"
   ]
  },
  {
   "cell_type": "markdown",
   "metadata": {},
   "source": [
    "#### From `shapely.geometry` let's import `Point` and from `geopandas` let's import the `GeoDataFrame` class. "
   ]
  },
  {
   "cell_type": "code",
   "execution_count": 89,
   "metadata": {},
   "outputs": [],
   "source": [
    "from shapely.geometry import Point\n",
    "from geopandas import GeoDataFrame"
   ]
  },
  {
   "cell_type": "markdown",
   "metadata": {},
   "source": [
    "#### Let's create a dictionary with a list of 3 addresses"
   ]
  },
  {
   "cell_type": "code",
   "execution_count": 96,
   "metadata": {},
   "outputs": [],
   "source": [
    "data = {\n",
    "    'address':[\n",
    "        '175 5th Avenue NYC',\n",
    "        '200 Willoughby Ave, Brooklyn, NY 11205',\n",
    "        '315 Bowery, NY, NY',\n",
    "    ],\n",
    "    \n",
    "    'names':[\n",
    "        'Flatiron Bldg',\n",
    "        'Pratt Institute',\n",
    "        \"CBGB's\",\n",
    "    ]\n",
    "} "
   ]
  },
  {
   "cell_type": "markdown",
   "metadata": {},
   "source": [
    "#### Now let's turn that dictionary into a DataFrame"
   ]
  },
  {
   "cell_type": "code",
   "execution_count": 97,
   "metadata": {},
   "outputs": [
    {
     "data": {
      "text/html": [
       "<div>\n",
       "<style scoped>\n",
       "    .dataframe tbody tr th:only-of-type {\n",
       "        vertical-align: middle;\n",
       "    }\n",
       "\n",
       "    .dataframe tbody tr th {\n",
       "        vertical-align: top;\n",
       "    }\n",
       "\n",
       "    .dataframe thead th {\n",
       "        text-align: right;\n",
       "    }\n",
       "</style>\n",
       "<table border=\"1\" class=\"dataframe\">\n",
       "  <thead>\n",
       "    <tr style=\"text-align: right;\">\n",
       "      <th></th>\n",
       "      <th>address</th>\n",
       "      <th>names</th>\n",
       "    </tr>\n",
       "  </thead>\n",
       "  <tbody>\n",
       "    <tr>\n",
       "      <th>0</th>\n",
       "      <td>175 5th Avenue NYC</td>\n",
       "      <td>Flatiron Bldg</td>\n",
       "    </tr>\n",
       "    <tr>\n",
       "      <th>1</th>\n",
       "      <td>200 Willoughby Ave, Brooklyn, NY 11205</td>\n",
       "      <td>Pratt Institute</td>\n",
       "    </tr>\n",
       "    <tr>\n",
       "      <th>2</th>\n",
       "      <td>315 Bowery, NY, NY</td>\n",
       "      <td>CBGB's</td>\n",
       "    </tr>\n",
       "  </tbody>\n",
       "</table>\n",
       "</div>"
      ],
      "text/plain": [
       "                                  address            names\n",
       "0                      175 5th Avenue NYC    Flatiron Bldg\n",
       "1  200 Willoughby Ave, Brooklyn, NY 11205  Pratt Institute\n",
       "2                      315 Bowery, NY, NY           CBGB's"
      ]
     },
     "execution_count": 97,
     "metadata": {},
     "output_type": "execute_result"
    }
   ],
   "source": [
    "df = pd.DataFrame(\n",
    "    data,\n",
    "    columns=data.keys(),\n",
    ")\n",
    "\n",
    "df"
   ]
  },
  {
   "cell_type": "markdown",
   "metadata": {},
   "source": [
    "#### Let's geocode everything in the **address** column"
   ]
  },
  {
   "cell_type": "code",
   "execution_count": 99,
   "metadata": {},
   "outputs": [
    {
     "data": {
      "text/html": [
       "<div>\n",
       "<style scoped>\n",
       "    .dataframe tbody tr th:only-of-type {\n",
       "        vertical-align: middle;\n",
       "    }\n",
       "\n",
       "    .dataframe tbody tr th {\n",
       "        vertical-align: top;\n",
       "    }\n",
       "\n",
       "    .dataframe thead th {\n",
       "        text-align: right;\n",
       "    }\n",
       "</style>\n",
       "<table border=\"1\" class=\"dataframe\">\n",
       "  <thead>\n",
       "    <tr style=\"text-align: right;\">\n",
       "      <th></th>\n",
       "      <th>address</th>\n",
       "      <th>names</th>\n",
       "      <th>geocode</th>\n",
       "    </tr>\n",
       "  </thead>\n",
       "  <tbody>\n",
       "    <tr>\n",
       "      <th>0</th>\n",
       "      <td>175 5th Avenue NYC</td>\n",
       "      <td>Flatiron Bldg</td>\n",
       "      <td>(Flatiron Building, 175, 5th Avenue, Flatiron ...</td>\n",
       "    </tr>\n",
       "    <tr>\n",
       "      <th>1</th>\n",
       "      <td>200 Willoughby Ave, Brooklyn, NY 11205</td>\n",
       "      <td>Pratt Institute</td>\n",
       "      <td>(Pratt Institute, 200, Willoughby Avenue, Clin...</td>\n",
       "    </tr>\n",
       "    <tr>\n",
       "      <th>2</th>\n",
       "      <td>315 Bowery, NY, NY</td>\n",
       "      <td>CBGB's</td>\n",
       "      <td>(315, Bowery, East Village, Manhattan Communit...</td>\n",
       "    </tr>\n",
       "  </tbody>\n",
       "</table>\n",
       "</div>"
      ],
      "text/plain": [
       "                                  address            names  \\\n",
       "0                      175 5th Avenue NYC    Flatiron Bldg   \n",
       "1  200 Willoughby Ave, Brooklyn, NY 11205  Pratt Institute   \n",
       "2                      315 Bowery, NY, NY           CBGB's   \n",
       "\n",
       "                                             geocode  \n",
       "0  (Flatiron Building, 175, 5th Avenue, Flatiron ...  \n",
       "1  (Pratt Institute, 200, Willoughby Avenue, Clin...  \n",
       "2  (315, Bowery, East Village, Manhattan Communit...  "
      ]
     },
     "execution_count": 99,
     "metadata": {},
     "output_type": "execute_result"
    }
   ],
   "source": [
    "df['geocode'] = df['address'].apply(geolocator.geocode)\n",
    "\n",
    "df"
   ]
  },
  {
   "cell_type": "markdown",
   "metadata": {},
   "source": [
    "#### Let's Parse out the Coordinates"
   ]
  },
  {
   "cell_type": "code",
   "execution_count": 100,
   "metadata": {},
   "outputs": [
    {
     "data": {
      "text/html": [
       "<div>\n",
       "<style scoped>\n",
       "    .dataframe tbody tr th:only-of-type {\n",
       "        vertical-align: middle;\n",
       "    }\n",
       "\n",
       "    .dataframe tbody tr th {\n",
       "        vertical-align: top;\n",
       "    }\n",
       "\n",
       "    .dataframe thead th {\n",
       "        text-align: right;\n",
       "    }\n",
       "</style>\n",
       "<table border=\"1\" class=\"dataframe\">\n",
       "  <thead>\n",
       "    <tr style=\"text-align: right;\">\n",
       "      <th></th>\n",
       "      <th>address</th>\n",
       "      <th>names</th>\n",
       "      <th>geocode</th>\n",
       "      <th>coords</th>\n",
       "    </tr>\n",
       "  </thead>\n",
       "  <tbody>\n",
       "    <tr>\n",
       "      <th>0</th>\n",
       "      <td>175 5th Avenue NYC</td>\n",
       "      <td>Flatiron Bldg</td>\n",
       "      <td>(Flatiron Building, 175, 5th Avenue, Flatiron ...</td>\n",
       "      <td>(40.741059199999995, -73.98964162240998)</td>\n",
       "    </tr>\n",
       "    <tr>\n",
       "      <th>1</th>\n",
       "      <td>200 Willoughby Ave, Brooklyn, NY 11205</td>\n",
       "      <td>Pratt Institute</td>\n",
       "      <td>(Pratt Institute, 200, Willoughby Avenue, Clin...</td>\n",
       "      <td>(40.69133825, -73.96301632978006)</td>\n",
       "    </tr>\n",
       "    <tr>\n",
       "      <th>2</th>\n",
       "      <td>315 Bowery, NY, NY</td>\n",
       "      <td>CBGB's</td>\n",
       "      <td>(315, Bowery, East Village, Manhattan Communit...</td>\n",
       "      <td>(40.725122, -73.9919843)</td>\n",
       "    </tr>\n",
       "  </tbody>\n",
       "</table>\n",
       "</div>"
      ],
      "text/plain": [
       "                                  address            names  \\\n",
       "0                      175 5th Avenue NYC    Flatiron Bldg   \n",
       "1  200 Willoughby Ave, Brooklyn, NY 11205  Pratt Institute   \n",
       "2                      315 Bowery, NY, NY           CBGB's   \n",
       "\n",
       "                                             geocode  \\\n",
       "0  (Flatiron Building, 175, 5th Avenue, Flatiron ...   \n",
       "1  (Pratt Institute, 200, Willoughby Avenue, Clin...   \n",
       "2  (315, Bowery, East Village, Manhattan Communit...   \n",
       "\n",
       "                                     coords  \n",
       "0  (40.741059199999995, -73.98964162240998)  \n",
       "1         (40.69133825, -73.96301632978006)  \n",
       "2                  (40.725122, -73.9919843)  "
      ]
     },
     "execution_count": 100,
     "metadata": {},
     "output_type": "execute_result"
    }
   ],
   "source": [
    "df['coords'] = df['geocode'].apply(\n",
    "    lambda x: (x.latitude, x.longitude)\n",
    ")\n",
    "\n",
    "df"
   ]
  },
  {
   "cell_type": "markdown",
   "metadata": {},
   "source": [
    "#### What is a `lambda` function? \n",
    "\n",
    "> Small anonymous functions can be created with the lambda keyword. This function returns the sum of its two arguments: lambda a, b: a+b. Lambda functions can be used wherever function objects are required. They are syntactically restricted to a single expression. Semantically, they are just syntactic sugar for a normal function definition. Like nested function definitions, lambda functions can reference variables from the containing scope. Source: https://docs.python.org/3/tutorial/controlflow.html\n",
    "\n",
    "Basically you can use a lambda when you don't want to define a function but you need to perform a function operation. "
   ]
  },
  {
   "cell_type": "markdown",
   "metadata": {},
   "source": [
    "#### Let's use `lambda x: ` to create individual `longitude` and `latitude` columns"
   ]
  },
  {
   "cell_type": "code",
   "execution_count": 102,
   "metadata": {},
   "outputs": [
    {
     "data": {
      "text/html": [
       "<div>\n",
       "<style scoped>\n",
       "    .dataframe tbody tr th:only-of-type {\n",
       "        vertical-align: middle;\n",
       "    }\n",
       "\n",
       "    .dataframe tbody tr th {\n",
       "        vertical-align: top;\n",
       "    }\n",
       "\n",
       "    .dataframe thead th {\n",
       "        text-align: right;\n",
       "    }\n",
       "</style>\n",
       "<table border=\"1\" class=\"dataframe\">\n",
       "  <thead>\n",
       "    <tr style=\"text-align: right;\">\n",
       "      <th></th>\n",
       "      <th>address</th>\n",
       "      <th>names</th>\n",
       "      <th>geocode</th>\n",
       "      <th>coords</th>\n",
       "      <th>longitude</th>\n",
       "      <th>latitude</th>\n",
       "    </tr>\n",
       "  </thead>\n",
       "  <tbody>\n",
       "    <tr>\n",
       "      <th>0</th>\n",
       "      <td>175 5th Avenue NYC</td>\n",
       "      <td>Flatiron Bldg</td>\n",
       "      <td>(Flatiron Building, 175, 5th Avenue, Flatiron ...</td>\n",
       "      <td>(40.741059199999995, -73.98964162240998)</td>\n",
       "      <td>-73.989642</td>\n",
       "      <td>40.741059</td>\n",
       "    </tr>\n",
       "    <tr>\n",
       "      <th>1</th>\n",
       "      <td>200 Willoughby Ave, Brooklyn, NY 11205</td>\n",
       "      <td>Pratt Institute</td>\n",
       "      <td>(Pratt Institute, 200, Willoughby Avenue, Clin...</td>\n",
       "      <td>(40.69133825, -73.96301632978006)</td>\n",
       "      <td>-73.963016</td>\n",
       "      <td>40.691338</td>\n",
       "    </tr>\n",
       "    <tr>\n",
       "      <th>2</th>\n",
       "      <td>315 Bowery, NY, NY</td>\n",
       "      <td>CBGB's</td>\n",
       "      <td>(315, Bowery, East Village, Manhattan Communit...</td>\n",
       "      <td>(40.725122, -73.9919843)</td>\n",
       "      <td>-73.991984</td>\n",
       "      <td>40.725122</td>\n",
       "    </tr>\n",
       "  </tbody>\n",
       "</table>\n",
       "</div>"
      ],
      "text/plain": [
       "                                  address            names  \\\n",
       "0                      175 5th Avenue NYC    Flatiron Bldg   \n",
       "1  200 Willoughby Ave, Brooklyn, NY 11205  Pratt Institute   \n",
       "2                      315 Bowery, NY, NY           CBGB's   \n",
       "\n",
       "                                             geocode  \\\n",
       "0  (Flatiron Building, 175, 5th Avenue, Flatiron ...   \n",
       "1  (Pratt Institute, 200, Willoughby Avenue, Clin...   \n",
       "2  (315, Bowery, East Village, Manhattan Communit...   \n",
       "\n",
       "                                     coords  longitude   latitude  \n",
       "0  (40.741059199999995, -73.98964162240998) -73.989642  40.741059  \n",
       "1         (40.69133825, -73.96301632978006) -73.963016  40.691338  \n",
       "2                  (40.725122, -73.9919843) -73.991984  40.725122  "
      ]
     },
     "execution_count": 102,
     "metadata": {},
     "output_type": "execute_result"
    }
   ],
   "source": [
    "df['longitude'] = df['geocode'].apply(lambda x: x.longitude)\n",
    "df['latitude'] = df['geocode'].apply(lambda x: x.latitude)\n",
    "\n",
    "df"
   ]
  },
  {
   "cell_type": "markdown",
   "metadata": {},
   "source": [
    "#### Let's iterate through the dataframe using `df.iterrows():` to see our geocodes"
   ]
  },
  {
   "cell_type": "code",
   "execution_count": 103,
   "metadata": {
    "scrolled": true
   },
   "outputs": [
    {
     "name": "stdout",
     "output_type": "stream",
     "text": [
      "address ['175 5th Avenue NYC', '200 Willoughby Ave, Brooklyn, NY 11205', '315 Bowery, NY, NY']\n",
      "names ['Flatiron Bldg', 'Pratt Institute', \"CBGB's\"]\n"
     ]
    }
   ],
   "source": [
    "for k, v in data.items():\n",
    "    print(k, v)"
   ]
  },
  {
   "cell_type": "code",
   "execution_count": 114,
   "metadata": {
    "scrolled": true
   },
   "outputs": [
    {
     "name": "stdout",
     "output_type": "stream",
     "text": [
      "0 40.741059199999995 -73.98964162240998\n",
      "1 40.69133825 -73.96301632978006\n",
      "2 40.725122 -73.9919843\n"
     ]
    }
   ],
   "source": [
    "for idx, row in df.iterrows():\n",
    "    print(idx, row['latitude'], row['longitude'])"
   ]
  },
  {
   "cell_type": "markdown",
   "metadata": {},
   "source": [
    "#### We can also cast our `geometry` column using the `Point()` class from Shapely/GeoPandas"
   ]
  },
  {
   "cell_type": "code",
   "execution_count": 106,
   "metadata": {},
   "outputs": [
    {
     "data": {
      "text/html": [
       "<div>\n",
       "<style scoped>\n",
       "    .dataframe tbody tr th:only-of-type {\n",
       "        vertical-align: middle;\n",
       "    }\n",
       "\n",
       "    .dataframe tbody tr th {\n",
       "        vertical-align: top;\n",
       "    }\n",
       "\n",
       "    .dataframe thead th {\n",
       "        text-align: right;\n",
       "    }\n",
       "</style>\n",
       "<table border=\"1\" class=\"dataframe\">\n",
       "  <thead>\n",
       "    <tr style=\"text-align: right;\">\n",
       "      <th></th>\n",
       "      <th>address</th>\n",
       "      <th>names</th>\n",
       "      <th>geocode</th>\n",
       "      <th>coords</th>\n",
       "      <th>longitude</th>\n",
       "      <th>latitude</th>\n",
       "      <th>geometry</th>\n",
       "    </tr>\n",
       "  </thead>\n",
       "  <tbody>\n",
       "    <tr>\n",
       "      <th>0</th>\n",
       "      <td>175 5th Avenue NYC</td>\n",
       "      <td>Flatiron Bldg</td>\n",
       "      <td>(Flatiron Building, 175, 5th Avenue, Flatiron ...</td>\n",
       "      <td>(40.741059199999995, -73.98964162240998)</td>\n",
       "      <td>-73.989642</td>\n",
       "      <td>40.741059</td>\n",
       "      <td>POINT (-73.98964162240998 40.7410592)</td>\n",
       "    </tr>\n",
       "    <tr>\n",
       "      <th>1</th>\n",
       "      <td>200 Willoughby Ave, Brooklyn, NY 11205</td>\n",
       "      <td>Pratt Institute</td>\n",
       "      <td>(Pratt Institute, 200, Willoughby Avenue, Clin...</td>\n",
       "      <td>(40.69133825, -73.96301632978006)</td>\n",
       "      <td>-73.963016</td>\n",
       "      <td>40.691338</td>\n",
       "      <td>POINT (-73.96301632978006 40.69133825)</td>\n",
       "    </tr>\n",
       "    <tr>\n",
       "      <th>2</th>\n",
       "      <td>315 Bowery, NY, NY</td>\n",
       "      <td>CBGB's</td>\n",
       "      <td>(315, Bowery, East Village, Manhattan Communit...</td>\n",
       "      <td>(40.725122, -73.9919843)</td>\n",
       "      <td>-73.991984</td>\n",
       "      <td>40.725122</td>\n",
       "      <td>POINT (-73.9919843 40.725122)</td>\n",
       "    </tr>\n",
       "  </tbody>\n",
       "</table>\n",
       "</div>"
      ],
      "text/plain": [
       "                                  address            names  \\\n",
       "0                      175 5th Avenue NYC    Flatiron Bldg   \n",
       "1  200 Willoughby Ave, Brooklyn, NY 11205  Pratt Institute   \n",
       "2                      315 Bowery, NY, NY           CBGB's   \n",
       "\n",
       "                                             geocode  \\\n",
       "0  (Flatiron Building, 175, 5th Avenue, Flatiron ...   \n",
       "1  (Pratt Institute, 200, Willoughby Avenue, Clin...   \n",
       "2  (315, Bowery, East Village, Manhattan Communit...   \n",
       "\n",
       "                                     coords  longitude   latitude  \\\n",
       "0  (40.741059199999995, -73.98964162240998) -73.989642  40.741059   \n",
       "1         (40.69133825, -73.96301632978006) -73.963016  40.691338   \n",
       "2                  (40.725122, -73.9919843) -73.991984  40.725122   \n",
       "\n",
       "                                 geometry  \n",
       "0   POINT (-73.98964162240998 40.7410592)  \n",
       "1  POINT (-73.96301632978006 40.69133825)  \n",
       "2           POINT (-73.9919843 40.725122)  "
      ]
     },
     "execution_count": 106,
     "metadata": {},
     "output_type": "execute_result"
    }
   ],
   "source": [
    "df['geometry'] = df.apply(lambda row: Point(row['longitude'], row['latitude']), axis = 1)\n",
    "\n",
    "df"
   ]
  },
  {
   "cell_type": "code",
   "execution_count": null,
   "metadata": {},
   "outputs": [],
   "source": []
  },
  {
   "cell_type": "markdown",
   "metadata": {},
   "source": [
    "#### Let's make this a GeoDataFrame"
   ]
  },
  {
   "cell_type": "code",
   "execution_count": 107,
   "metadata": {},
   "outputs": [
    {
     "data": {
      "text/plain": [
       "geopandas.geodataframe.GeoDataFrame"
      ]
     },
     "execution_count": 107,
     "metadata": {},
     "output_type": "execute_result"
    }
   ],
   "source": [
    "address = GeoDataFrame(df, geometry = 'geometry')\n",
    "\n",
    "type(address)"
   ]
  },
  {
   "cell_type": "markdown",
   "metadata": {},
   "source": [
    "#### Plot `address`"
   ]
  },
  {
   "cell_type": "code",
   "execution_count": 109,
   "metadata": {
    "scrolled": true
   },
   "outputs": [
    {
     "data": {
      "image/png": "[encoded data removed]",
      "text/plain": [
       "<Figure size 432x288 with 1 Axes>"
      ]
     },
     "metadata": {
      "needs_background": "light"
     },
     "output_type": "display_data"
    }
   ],
   "source": [
    "address.plot();"
   ]
  },
  {
   "cell_type": "code",
   "execution_count": 111,
   "metadata": {
    "scrolled": false
   },
   "outputs": [
    {
     "data": {
      "image/png": "[encoded data removed]",
      "text/plain": [
       "<Figure size 432x288 with 1 Axes>"
      ]
     },
     "metadata": {
      "needs_background": "light"
     },
     "output_type": "display_data"
    }
   ],
   "source": [
    "gdf.to_crs(epsg=4326).plot();"
   ]
  },
  {
   "cell_type": "code",
   "execution_count": 112,
   "metadata": {
    "scrolled": true
   },
   "outputs": [
    {
     "name": "stderr",
     "output_type": "stream",
     "text": [
      "C:\\Users\\dun4g\\anaconda3\\envs\\GIS\\lib\\site-packages\\geopandas\\tools\\sjoin.py:61: UserWarning: CRS of frames being joined does not match!(None != {'init': 'epsg:4326', 'no_defs': True})\n",
      "  \"(%s != %s)\" % (left_df.crs, right_df.crs)\n"
     ]
    },
    {
     "data": {
      "text/html": [
       "<div>\n",
       "<style scoped>\n",
       "    .dataframe tbody tr th:only-of-type {\n",
       "        vertical-align: middle;\n",
       "    }\n",
       "\n",
       "    .dataframe tbody tr th {\n",
       "        vertical-align: top;\n",
       "    }\n",
       "\n",
       "    .dataframe thead th {\n",
       "        text-align: right;\n",
       "    }\n",
       "</style>\n",
       "<table border=\"1\" class=\"dataframe\">\n",
       "  <thead>\n",
       "    <tr style=\"text-align: right;\">\n",
       "      <th></th>\n",
       "      <th>address</th>\n",
       "      <th>names</th>\n",
       "      <th>geocode</th>\n",
       "      <th>coords</th>\n",
       "      <th>longitude</th>\n",
       "      <th>latitude</th>\n",
       "      <th>geometry</th>\n",
       "      <th>index_right</th>\n",
       "      <th>boro_name</th>\n",
       "    </tr>\n",
       "  </thead>\n",
       "  <tbody>\n",
       "    <tr>\n",
       "      <th>0</th>\n",
       "      <td>175 5th Avenue NYC</td>\n",
       "      <td>Flatiron Bldg</td>\n",
       "      <td>(Flatiron Building, 175, 5th Avenue, Flatiron ...</td>\n",
       "      <td>(40.741059199999995, -73.98964162240998)</td>\n",
       "      <td>-73.989642</td>\n",
       "      <td>40.741059</td>\n",
       "      <td>POINT (-73.98964 40.74106)</td>\n",
       "      <td>4</td>\n",
       "      <td>Manhattan</td>\n",
       "    </tr>\n",
       "    <tr>\n",
       "      <th>1</th>\n",
       "      <td>200 Willoughby Ave, Brooklyn, NY 11205</td>\n",
       "      <td>Pratt Institute</td>\n",
       "      <td>(Pratt Institute, 200, Willoughby Avenue, Clin...</td>\n",
       "      <td>(40.69133825, -73.96301632978006)</td>\n",
       "      <td>-73.963016</td>\n",
       "      <td>40.691338</td>\n",
       "      <td>POINT (-73.96302 40.69134)</td>\n",
       "      <td>2</td>\n",
       "      <td>Brooklyn</td>\n",
       "    </tr>\n",
       "    <tr>\n",
       "      <th>2</th>\n",
       "      <td>315 Bowery, NY, NY</td>\n",
       "      <td>CBGB's</td>\n",
       "      <td>(315, Bowery, East Village, Manhattan Communit...</td>\n",
       "      <td>(40.725122, -73.9919843)</td>\n",
       "      <td>-73.991984</td>\n",
       "      <td>40.725122</td>\n",
       "      <td>POINT (-73.99198 40.72512)</td>\n",
       "      <td>4</td>\n",
       "      <td>Manhattan</td>\n",
       "    </tr>\n",
       "  </tbody>\n",
       "</table>\n",
       "</div>"
      ],
      "text/plain": [
       "                                  address            names  \\\n",
       "0                      175 5th Avenue NYC    Flatiron Bldg   \n",
       "1  200 Willoughby Ave, Brooklyn, NY 11205  Pratt Institute   \n",
       "2                      315 Bowery, NY, NY           CBGB's   \n",
       "\n",
       "                                             geocode  \\\n",
       "0  (Flatiron Building, 175, 5th Avenue, Flatiron ...   \n",
       "1  (Pratt Institute, 200, Willoughby Avenue, Clin...   \n",
       "2  (315, Bowery, East Village, Manhattan Communit...   \n",
       "\n",
       "                                     coords  longitude   latitude  \\\n",
       "0  (40.741059199999995, -73.98964162240998) -73.989642  40.741059   \n",
       "1         (40.69133825, -73.96301632978006) -73.963016  40.691338   \n",
       "2                  (40.725122, -73.9919843) -73.991984  40.725122   \n",
       "\n",
       "                     geometry  index_right  boro_name  \n",
       "0  POINT (-73.98964 40.74106)            4  Manhattan  \n",
       "1  POINT (-73.96302 40.69134)            2   Brooklyn  \n",
       "2  POINT (-73.99198 40.72512)            4  Manhattan  "
      ]
     },
     "execution_count": 112,
     "metadata": {},
     "output_type": "execute_result"
    }
   ],
   "source": [
    "# spatial join\n",
    "\n",
    "new_thing = gpd.sjoin(\n",
    "    address,\n",
    "    gdf[['geometry', 'boro_name']].to_crs(epsg=4326),  # must convert the crs\n",
    "    how='left',\n",
    ")\n",
    "\n",
    "new_thing"
   ]
  },
  {
   "cell_type": "markdown",
   "metadata": {},
   "source": [
    "#### Check out `address.geometry` attribute"
   ]
  },
  {
   "cell_type": "code",
   "execution_count": null,
   "metadata": {},
   "outputs": [],
   "source": []
  },
  {
   "cell_type": "markdown",
   "metadata": {},
   "source": [
    "#### There's some bug for CRS that we'll update"
   ]
  },
  {
   "cell_type": "code",
   "execution_count": 613,
   "metadata": {},
   "outputs": [],
   "source": [
    "address.crs = {'init': 'epsg:4326', 'no_defs': True}  \n",
    "# weird workaround for setting crs, there's a bug here; https://github.com/geopandas/geopandas/issues/245"
   ]
  },
  {
   "cell_type": "markdown",
   "metadata": {},
   "source": [
    "#### Let's plot the addresses with our Boros (`gdf`)"
   ]
  },
  {
   "cell_type": "code",
   "execution_count": 614,
   "metadata": {},
   "outputs": [
    {
     "data": {
      "image/png": "[encoded data removed]",
      "text/plain": [
       "<Figure size 864x864 with 1 Axes>"
      ]
     },
     "metadata": {
      "needs_background": "light"
     },
     "output_type": "display_data"
    }
   ],
   "source": [
    "fig, ax = plt.subplots(figsize=(12, 12))\n",
    "\n",
    "### your code here\n",
    "\n",
    "### your code here\n",
    "\n",
    "\n",
    "plt.title('Geocoded Addresses')\n",
    "\n",
    "plt.show();"
   ]
  }
 ],
 "metadata": {
  "kernelspec": {
   "display_name": "Python 3",
   "language": "python",
   "name": "python3"
  },
  "language_info": {
   "codemirror_mode": {
    "name": "ipython",
    "version": 3
   },
   "file_extension": ".py",
   "mimetype": "text/x-python",
   "name": "python",
   "nbconvert_exporter": "python",
   "pygments_lexer": "ipython3",
   "version": "3.7.7"
  },
  "toc": {
   "base_numbering": 1,
   "nav_menu": {},
   "number_sections": false,
   "sideBar": true,
   "skip_h1_title": false,
   "title_cell": "Table of Contents",
   "title_sidebar": "Contents",
   "toc_cell": true,
   "toc_position": {
    "height": "856.364px",
    "left": "34px",
    "top": "110.284px",
    "width": "201.179px"
   },
   "toc_section_display": true,
   "toc_window_display": true
  }
 },
 "nbformat": 4,
 "nbformat_minor": 2
}
